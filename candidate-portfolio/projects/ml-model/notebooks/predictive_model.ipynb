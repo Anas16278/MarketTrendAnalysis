{
  "cells": [
    {
      "cell_type": "code",
      "execution_count": null,
      "metadata": {},
      "outputs": [],
      "source": [
        "# Price Movement Prediction (Logistic Regression)\n",
        "Predict next-day up/down for SPY using lagged returns and RSI features.\n"
      ]
    },
    {
      "cell_type": "code",
      "execution_count": null,
      "metadata": {},
      "outputs": [],
      "source": [
        "import pandas as pd\n",
        "import numpy as np\n",
        "from sklearn.linear_model import LogisticRegression\n",
        "from sklearn.metrics import classification_report, roc_auc_score\n",
        "from sklearn.model_selection import TimeSeriesSplit\n",
        "import yfinance as yf\n",
        "\n",
        "\n",
        "def rsi(series: pd.Series, window: int = 14) -> pd.Series:\n",
        "    delta = series.diff()\n",
        "    gain = delta.clip(lower=0).rolling(window).mean()\n",
        "    loss = -delta.clip(upper=0).rolling(window).mean()\n",
        "    rs = gain / (loss.replace(0, np.nan))\n",
        "    return 100 - (100 / (1 + rs))\n",
        "\n",
        "\n",
        "data = yf.download('SPY', start='2014-01-01', end=None, progress=False)\n",
        "close = data['Adj Close'].dropna()\n",
        "ret1 = close.pct_change()\n",
        "features = pd.DataFrame({\n",
        "    'ret1': ret1,\n",
        "    'ret5': close.pct_change(5),\n",
        "    'ret10': close.pct_change(10),\n",
        "    'rsi14': rsi(close, 14),\n",
        "}).dropna()\n",
        "y = (ret1.shift(-1).reindex(features.index) > 0).astype(int)\n",
        "\n",
        "X = features.values\n",
        "y = y.values\n",
        "tscv = TimeSeriesSplit(n_splits=5)\n",
        "preds = np.zeros_like(y, dtype=float)\n",
        "coefs = []\n",
        "for train, test in tscv.split(X):\n",
        "    model = LogisticRegression(max_iter=1000)\n",
        "    model.fit(X[train], y[train])\n",
        "    p = model.predict_proba(X[test])[:,1]\n",
        "    preds[test] = p\n",
        "    coefs.append(model.coef_.ravel())\n",
        "\n",
        "auc = roc_auc_score(y[~np.isnan(preds)], preds[~np.isnan(preds)])\n",
        "pred_labels = (preds > 0.5).astype(int)\n",
        "print('ROC AUC:', round(auc, 3))\n",
        "print(classification_report(y[~np.isnan(preds)], pred_labels[~np.isnan(preds)]))\n",
        "\n",
        "coefs = np.array(coefs)\n",
        "coef_mean = coefs.mean(axis=0)\n",
        "for name, w in zip(features.columns, coef_mean):\n",
        "    print(name, round(w, 4))\n"
      ]
    }
  ],
  "metadata": {
    "language_info": {
      "name": "python"
    }
  },
  "nbformat": 4,
  "nbformat_minor": 2
}
